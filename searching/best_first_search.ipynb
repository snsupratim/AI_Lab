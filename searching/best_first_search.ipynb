{
 "cells": [
  {
   "cell_type": "code",
   "execution_count": 3,
   "metadata": {},
   "outputs": [],
   "source": [
    "from queue import PriorityQueue"
   ]
  },
  {
   "cell_type": "code",
   "execution_count": 4,
   "metadata": {},
   "outputs": [],
   "source": [
    "v=14\n",
    "graph=[[] for i in range(v)]"
   ]
  },
  {
   "cell_type": "code",
   "execution_count": 5,
   "metadata": {},
   "outputs": [],
   "source": [
    "def best_first_search(actual_src,target,n):\n",
    "    visited=[False]*n\n",
    "    pq=PriorityQueue()\n",
    "    pq.put((0,actual_src))\n",
    "    visited[actual_src]=True\n",
    "\n",
    "    while pq.empty()== False:\n",
    "        u=pq.get()[1]\n",
    "        print(u,end=\"\")\n",
    "        if(u==target):\n",
    "            break\n",
    "        for v,c in graph[u]:\n",
    "            if visited[v]==False:\n",
    "                visited[v]=True\n",
    "                pq.put((c,v))\n",
    "\n",
    "    print()"
   ]
  },
  {
   "cell_type": "code",
   "execution_count": 6,
   "metadata": {},
   "outputs": [],
   "source": [
    "def added(x,y,cost):\n",
    "    graph[x].append((y,cost))\n",
    "    graph[y].append((x,cost))"
   ]
  },
  {
   "cell_type": "code",
   "execution_count": 11,
   "metadata": {},
   "outputs": [],
   "source": [
    "added(0,1,7)\n",
    "added(0,2,4)\n",
    "added(1,3,3)\n",
    "added(1,4,1)\n",
    "added(2,5,34)\n",
    "added(2,6,2)\n",
    "source=0\n",
    "target=5"
   ]
  },
  {
   "cell_type": "code",
   "execution_count": 12,
   "metadata": {},
   "outputs": [
    {
     "name": "stdout",
     "output_type": "stream",
     "text": [
      "0261435\n"
     ]
    }
   ],
   "source": [
    "best_first_search(source,target,v)"
   ]
  }
 ],
 "metadata": {
  "kernelspec": {
   "display_name": "Python 3",
   "language": "python",
   "name": "python3"
  },
  "language_info": {
   "codemirror_mode": {
    "name": "ipython",
    "version": 3
   },
   "file_extension": ".py",
   "mimetype": "text/x-python",
   "name": "python",
   "nbconvert_exporter": "python",
   "pygments_lexer": "ipython3",
   "version": "3.11.3"
  }
 },
 "nbformat": 4,
 "nbformat_minor": 2
}
